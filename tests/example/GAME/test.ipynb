{
 "cells": [
  {
   "cell_type": "code",
   "execution_count": 19,
   "metadata": {},
   "outputs": [
    {
     "name": "stdout",
     "output_type": "stream",
     "text": [
      "D:\\FPGA_LAB_pangomicro\\tinyriscv\\tinyriscv\\tests\\example\\GAME\\GAMEtest.bin\n"
     ]
    }
   ],
   "source": [
    "# 打开文件\n",
    "import os\n",
    "SrcFile=(r\"D:\\FPGA_LAB_pangomicro\\tinyriscv\\tinyriscv\\tests\\example\\GAME\\GAMEtest.bin\")\n",
    "print(SrcFile)\n",
    "SrcFileID = open(SrcFile, 'rb')\n",
    "# 获取字符串列表\n",
    "lines = SrcFileID.read()\n",
    "# 关闭文件\n",
    "SrcFileID.close()\n",
    "flines = len(lines)\n",
    "\n",
    "DstFile=r\"D:\\FPGA_LAB_pangomicro\\tinyriscv\\tinyriscv\\tests\\example\\GAME\\GAMEtest.dat\"\n",
    "if os.path.isfile(DstFile):\n",
    "    os.remove(DstFile)\n",
    "DstFileID = open(DstFile, 'a', encoding=\"utf-8\")\n",
    "\n",
    "\n",
    "# for i in range(0, flines):\n",
    "#     b = lines[i]\n",
    "#     DstFileID.write('%.2x\\n' %(b))\n",
    "\n",
    "for i in range(0, int(flines/4)):\n",
    "    a = lines[4*i]\n",
    "    b = lines[4*i+1]\n",
    "    c = lines[4*i+2]\n",
    "    d = lines[4*i+3]\n",
    "    DstFileID.write('%.2x%.2x%.2x%.2x\\n' %(d,c,b,a))\n",
    "\n",
    "# for j in range(i+1, 16384):    \n",
    "#     DstFileID.write('00000000\\n')\n",
    "\n",
    "\n",
    "\n",
    "DstFileID.close()"
   ]
  }
 ],
 "metadata": {
  "kernelspec": {
   "display_name": "python37",
   "language": "python",
   "name": "python3"
  },
  "language_info": {
   "codemirror_mode": {
    "name": "ipython",
    "version": 3
   },
   "file_extension": ".py",
   "mimetype": "text/x-python",
   "name": "python",
   "nbconvert_exporter": "python",
   "pygments_lexer": "ipython3",
   "version": "3.7.10"
  }
 },
 "nbformat": 4,
 "nbformat_minor": 2
}
